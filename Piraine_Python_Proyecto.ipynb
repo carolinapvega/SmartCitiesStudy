{
 "cells": [
  {
   "cell_type": "markdown",
   "metadata": {},
   "source": [
    "</H1><p style=\"text-align: center;\">Universidad Complutense de Madrid</p></H1>\n",
    "</H2><p style=\"text-align: center;\">Programacion Aplicada a las Ciudades Inteligentes</p></H2>\n",
    "</H3><p style=\"text-align: left;\">Proyecto Final</p></H3>\n",
    "</H3><p style=\"text-align: left;\">Carolina Pirane Vega</p></H3>"
   ]
  },
  {
   "cell_type": "markdown",
   "metadata": {},
   "source": [
    "</H3><b><p style=\"text-align: center;\">Configuración de Bibliotecas y Importación de Datos</p></b></H3>"
   ]
  },
  {
   "cell_type": "markdown",
   "metadata": {},
   "source": [
    "Importando las bibliotecas que voy a necesitar"
   ]
  },
  {
   "cell_type": "code",
   "execution_count": 1,
   "metadata": {},
   "outputs": [],
   "source": [
    "import pandas as pd\n",
    "import matplotlib.pyplot as plt\n",
    "from matplotlib.dates import DateFormatter\n",
    "import seaborn as sns\n",
    "from sklearn.preprocessing import scale"
   ]
  },
  {
   "cell_type": "markdown",
   "metadata": {},
   "source": [
    "Importando el archivo CSV mediante la función read_csv de Pandas, utilizando 'r' para lectura e indicando el separador utilizado en el archivo."
   ]
  },
  {
   "cell_type": "code",
   "execution_count": 2,
   "metadata": {},
   "outputs": [],
   "source": [
    "datos_madrid_trafico=pd.read_csv(r\"/Users/carolinavega/Documents/UCM/Python/10-2023.csv\", sep=\";\")"
   ]
  },
  {
   "cell_type": "markdown",
   "metadata": {},
   "source": [
    "Explorando los datos importados para obtener información sobre su contenido."
   ]
  },
  {
   "cell_type": "code",
   "execution_count": null,
   "metadata": {},
   "outputs": [],
   "source": [
    "datos_madrid_trafico.head()"
   ]
  },
  {
   "cell_type": "markdown",
   "metadata": {},
   "source": [
    "Preparando los datos: Utilizando Pandas DataFrame, filtro los sensores ubicados en C30, M-30 y en zonas urbanas, creando un conjunto de datos exclusivo con esta selección. El filtro por tipo de elemento es esencial para la separación de los datos."
   ]
  },
  {
   "cell_type": "code",
   "execution_count": 3,
   "metadata": {},
   "outputs": [],
   "source": [
    "\n",
    "c30_sensors = pd.DataFrame(datos_madrid_trafico[datos_madrid_trafico['tipo_elem'] == 'C30'])\n",
    "m30_sensors =pd.DataFrame(datos_madrid_trafico[datos_madrid_trafico['tipo_elem'] == 'M30'])\n",
    "urb_sensors =pd.DataFrame(datos_madrid_trafico[datos_madrid_trafico['tipo_elem'] == 'URB'])\n",
    "sensores_m30_urb =pd.DataFrame(datos_madrid_trafico[datos_madrid_trafico['tipo_elem'].isin(['M30', 'URB'])])\n",
    "\n"
   ]
  },
  {
   "cell_type": "markdown",
   "metadata": {},
   "source": [
    "</H3><b><p style=\"text-align: center;\">Identificación de Datos Perdidos para Mejorar la Calidad del Análisis de Datos</p></b></H3>"
   ]
  },
  {
   "cell_type": "markdown",
   "metadata": {},
   "source": [
    "Missing data de los Datos del sensores C30 M30 URB"
   ]
  },
  {
   "cell_type": "markdown",
   "metadata": {},
   "source": [
    "Para el análisis de datos faltantes, he creado una función `datos_faltantes` que trae todas las columnas del DataFrame original en una columna llamada 'Columnas'. Luego, para cada columna, se crea una línea. Para identificar la cantidad de ceros, se igualan los valores a cero, se calcula la media y se multiplica por 100. Este proceso se repite para las columnas que contienen el valor NaN y para los valores nulos.\n",
    "Esta función devuelve un DataFrame con información sobre el porcentaje de ceros, NaN y valores nulos para cada columna del DataFrame original, lo que facilita la identificación de datos faltantes durante el análisis de datos."
   ]
  },
  {
   "cell_type": "code",
   "execution_count": 4,
   "metadata": {},
   "outputs": [],
   "source": [
    "def datos_faltantes(dataframe):\n",
    "    percentual_datos_faltantes = pd.DataFrame({\n",
    "    'Columnas': dataframe.columns,\n",
    "    'Porcentaje de Ceros': (dataframe == 0).mean() * 100,\n",
    "    'Porcentaje de NaN': dataframe.isna().mean() * 100,\n",
    "    'Porcentaje de Valores Nulos': (dataframe.isnull() | (dataframe == '')).mean() * 100  \n",
    "})\n",
    "\n",
    "    return percentual_datos_faltantes"
   ]
  },
  {
   "cell_type": "markdown",
   "metadata": {},
   "source": [
    "En este análisis de los datos de los sensores en M30, se examina la existencia de ceros, valores nulos o 'na' para evaluar la calidad de los datos y así identificar los sensores con registros más fiables"
   ]
  },
  {
   "cell_type": "code",
   "execution_count": 5,
   "metadata": {},
   "outputs": [
    {
     "data": {
      "text/html": [
       "<div>\n",
       "<style scoped>\n",
       "    .dataframe tbody tr th:only-of-type {\n",
       "        vertical-align: middle;\n",
       "    }\n",
       "\n",
       "    .dataframe tbody tr th {\n",
       "        vertical-align: top;\n",
       "    }\n",
       "\n",
       "    .dataframe thead th {\n",
       "        text-align: right;\n",
       "    }\n",
       "</style>\n",
       "<table border=\"1\" class=\"dataframe\">\n",
       "  <thead>\n",
       "    <tr style=\"text-align: right;\">\n",
       "      <th></th>\n",
       "      <th>Columnas</th>\n",
       "      <th>Porcentaje de Ceros</th>\n",
       "      <th>Porcentaje de NaN</th>\n",
       "      <th>Porcentaje de Valores Nulos</th>\n",
       "    </tr>\n",
       "  </thead>\n",
       "  <tbody>\n",
       "    <tr>\n",
       "      <th>id</th>\n",
       "      <td>id</td>\n",
       "      <td>0.000000</td>\n",
       "      <td>0.000000</td>\n",
       "      <td>0.000000</td>\n",
       "    </tr>\n",
       "    <tr>\n",
       "      <th>fecha</th>\n",
       "      <td>fecha</td>\n",
       "      <td>0.000000</td>\n",
       "      <td>0.000000</td>\n",
       "      <td>0.000000</td>\n",
       "    </tr>\n",
       "    <tr>\n",
       "      <th>tipo_elem</th>\n",
       "      <td>tipo_elem</td>\n",
       "      <td>0.000000</td>\n",
       "      <td>0.000000</td>\n",
       "      <td>0.000000</td>\n",
       "    </tr>\n",
       "    <tr>\n",
       "      <th>intensidad</th>\n",
       "      <td>intensidad</td>\n",
       "      <td>3.837723</td>\n",
       "      <td>0.000000</td>\n",
       "      <td>0.000000</td>\n",
       "    </tr>\n",
       "    <tr>\n",
       "      <th>ocupacion</th>\n",
       "      <td>ocupacion</td>\n",
       "      <td>18.584521</td>\n",
       "      <td>0.000000</td>\n",
       "      <td>0.000000</td>\n",
       "    </tr>\n",
       "    <tr>\n",
       "      <th>carga</th>\n",
       "      <td>carga</td>\n",
       "      <td>4.170591</td>\n",
       "      <td>0.000000</td>\n",
       "      <td>0.000000</td>\n",
       "    </tr>\n",
       "    <tr>\n",
       "      <th>vmed</th>\n",
       "      <td>vmed</td>\n",
       "      <td>2.755902</td>\n",
       "      <td>1.105246</td>\n",
       "      <td>1.105246</td>\n",
       "    </tr>\n",
       "    <tr>\n",
       "      <th>error</th>\n",
       "      <td>error</td>\n",
       "      <td>0.000000</td>\n",
       "      <td>3.088523</td>\n",
       "      <td>3.088523</td>\n",
       "    </tr>\n",
       "    <tr>\n",
       "      <th>periodo_integracion</th>\n",
       "      <td>periodo_integracion</td>\n",
       "      <td>0.000000</td>\n",
       "      <td>0.000000</td>\n",
       "      <td>0.000000</td>\n",
       "    </tr>\n",
       "  </tbody>\n",
       "</table>\n",
       "</div>"
      ],
      "text/plain": [
       "                                Columnas  Porcentaje de Ceros  \\\n",
       "id                                    id             0.000000   \n",
       "fecha                              fecha             0.000000   \n",
       "tipo_elem                      tipo_elem             0.000000   \n",
       "intensidad                    intensidad             3.837723   \n",
       "ocupacion                      ocupacion            18.584521   \n",
       "carga                              carga             4.170591   \n",
       "vmed                                vmed             2.755902   \n",
       "error                              error             0.000000   \n",
       "periodo_integracion  periodo_integracion             0.000000   \n",
       "\n",
       "                     Porcentaje de NaN  Porcentaje de Valores Nulos  \n",
       "id                            0.000000                     0.000000  \n",
       "fecha                         0.000000                     0.000000  \n",
       "tipo_elem                     0.000000                     0.000000  \n",
       "intensidad                    0.000000                     0.000000  \n",
       "ocupacion                     0.000000                     0.000000  \n",
       "carga                         0.000000                     0.000000  \n",
       "vmed                          1.105246                     1.105246  \n",
       "error                         3.088523                     3.088523  \n",
       "periodo_integracion           0.000000                     0.000000  "
      ]
     },
     "execution_count": 5,
     "metadata": {},
     "output_type": "execute_result"
    }
   ],
   "source": [
    "missing_data_percentages_m30 = datos_faltantes(m30_sensors)\n",
    "missing_data_percentages_m30"
   ]
  },
  {
   "cell_type": "markdown",
   "metadata": {},
   "source": [
    "Resultados del análisis de sensores en M30: Este análisis revela que los sensores urbanos presentan un 3.83% de ceros en los datos de intensidad, un 18.58% en los datos de ocupación, un 4.17% en los datos de carga y un 2.75% en los datos de velocidad. Además de los ceros, se observan valores NaN y nulos, que en cualquier forma de análisis no resultan relevantes. Sin embargo, para los propósitos de los ejercicios, los datos más utilizados son velocidad e intensidad, y las pérdidas debidas a la cantidad de datos no son significativas hasta el punto de afectar los resultados."
   ]
  },
  {
   "cell_type": "markdown",
   "metadata": {},
   "source": [
    "Se repetirá el análisis para los sensores Urbanos."
   ]
  },
  {
   "cell_type": "code",
   "execution_count": null,
   "metadata": {},
   "outputs": [],
   "source": [
    "missing_data_percentages_urb = datos_faltantes(urb_sensors)\n",
    "\n",
    "missing_data_percentages_urb"
   ]
  },
  {
   "cell_type": "markdown",
   "metadata": {},
   "source": [
    "Resultado del análisis de sensores urbanos: Según este análisis, se observa que los sensores urbanos presentan un 1.39% de ceros en los datos de intensidad, un 23.78% en los datos de ocupación, un 4.43% en los datos de carga y un 100% de ceros en los datos de velocidad. Es importante destacar que los datos de velocidad de estos sensores, aunque se utilicen en este estudio, contienen ceros, lo que puede afectar los resultados en un análisis más amplio"
   ]
  },
  {
   "cell_type": "markdown",
   "metadata": {},
   "source": [
    "Se repetirá el análisis para los sensores en C30"
   ]
  },
  {
   "cell_type": "code",
   "execution_count": null,
   "metadata": {},
   "outputs": [],
   "source": [
    "missing_data_percentages_c30 = datos_faltantes(c30_sensors)\n",
    "\n",
    "missing_data_percentages_c30"
   ]
  },
  {
   "cell_type": "markdown",
   "metadata": {},
   "source": [
    "Resultado del análisis de sensores C30: Según este análisis, se observa que los sensores en C30 tienen un 6.16% de ceros en los datos de intensidad, un 11.29% en los datos de ocupación, un 100.00% de ceros en los datos de carga y un 6.16% de ceros en los datos de velocidad. Además, presentan un bajo porcentaje de NaN en ocupación, lo cual no afectará este estudio ya que no es un objetivo relevante."
   ]
  },
  {
   "cell_type": "markdown",
   "metadata": {},
   "source": [
    "Resultado Final: A la luz de los resultados individuales de los análisis, no se ha identificado la necesidad de aplicar algún tratamiento a los datos, a excepción de la consideración de que en los sensores urbanos, los datos de velocidad posiblemente no reflejen con precisión la realidad."
   ]
  },
  {
   "cell_type": "markdown",
   "metadata": {},
   "source": [
    "</H3><b><p style=\"text-align: center;\">Análisis de Datos Discrepantes: Mejorando la Calidad del Análisis mediante la Identificación de Valores Atípicos en Velocidad e Intensidad</p></b></H3>\n"
   ]
  },
  {
   "cell_type": "markdown",
   "metadata": {},
   "source": [
    "Desarrollo de una Función para Visualizar Boxplots en el Análisis Requerido"
   ]
  },
  {
   "cell_type": "markdown",
   "metadata": {},
   "source": [
    "Esta función, llamada `analisis_boxplot`, genera un boxplot para una columna específica de un DataFrame dado. Utiliza la biblioteca seaborn (sns) para crear el gráfico de caja, mostrando la distribución y las estadísticas de la variable especificada. El título y las etiquetas del eje se personalizan según la columna proporcionada. Finalmente, el gráfico se muestra mediante plt.show()."
   ]
  },
  {
   "cell_type": "code",
   "execution_count": 6,
   "metadata": {},
   "outputs": [],
   "source": [
    "def analisis_boxplot(dataframe, columna):\n",
    "    # Box plot\n",
    "    sns.boxplot(data=dataframe, x=columna)\n",
    "    plt.title(f'Box Plot {columna}')\n",
    "    plt.xlabel(columna)\n",
    "    plt.show()"
   ]
  },
  {
   "cell_type": "markdown",
   "metadata": {},
   "source": [
    "Una técnica para manejar outliers sin afectar los datos es la winsorización, que reemplaza los valores extremos con los correspondientes a los percentiles. Esto ayuda a suavizar el impacto de los outliers en los análisis estadísticos sin eliminar completamente la información."
   ]
  },
  {
   "cell_type": "markdown",
   "metadata": {},
   "source": [
    "\n",
    "Esta función `winsorize_and_boxplot` realiza dos acciones principales: la winsorización, que trata los valores extremos en la columna especificada ajustándolos a los percentiles 5 y 90, lo que ayuda a suavizar el impacto de los outliers y la creación de un boxplot antes y después de la winsorización."
   ]
  },
  {
   "cell_type": "code",
   "execution_count": 7,
   "metadata": {},
   "outputs": [],
   "source": [
    "#Una funciona para winsorizar los datos\n",
    "def winsorize_and_boxplot(dataframe, column):\n",
    "    # Obtener los quartiles para tratar los outliers\n",
    "    values = dataframe[column].quantile([0.05, 0.9]).to_list()\n",
    "\n",
    "    # Winsorizar\n",
    "    dataframe[f'{column}_win'] = dataframe[column].clip(values[0], values[1])\n",
    "\n",
    "    # Box plot antes y después de la winsorización\n",
    "    dataframe[[column, f'{column}_win']].boxplot()\n",
    "    plt.title(f'Box Plot Before and After Winsorization - {column}')\n",
    "    plt.xlabel(column)\n",
    "    plt.show()"
   ]
  },
  {
   "cell_type": "markdown",
   "metadata": {},
   "source": [
    "Análisis de los Datos Atípicos en la M30"
   ]
  },
  {
   "cell_type": "code",
   "execution_count": 8,
   "metadata": {},
   "outputs": [
    {
     "data": {
      "image/png": "[encoded data removed]",
      "text/plain": [
       "<Figure size 640x480 with 1 Axes>"
      ]
     },
     "metadata": {},
     "output_type": "display_data"
    },
    {
     "data": {
      "image/png": "[encoded data removed]",
      "text/plain": [
       "<Figure size 640x480 with 1 Axes>"
      ]
     },
     "metadata": {},
     "output_type": "display_data"
    }
   ],
   "source": [
    "analisis_boxplot(m30_sensors, 'intensidad')\n",
    "analisis_boxplot(m30_sensors, 'vmed')"
   ]
  },
  {
   "cell_type": "markdown",
   "metadata": {},
   "source": [
    "En las dos analisis se pueden ver en los boxplots que hay muchos datos discrepantes, lo que voy hacer es analisar si con una winsorizacion estos datos quedan mas normalizados sin afectar sus informaciones."
   ]
  },
  {
   "cell_type": "code",
   "execution_count": null,
   "metadata": {},
   "outputs": [],
   "source": [
    "winsorize_and_boxplot(m30_sensors,'vmed')"
   ]
  },
  {
   "cell_type": "markdown",
   "metadata": {},
   "source": [
    "Al observar el nuevo campo creado mediante la winsorización (vmed_win) y realizar un análisis comparativo con los datos originales, se aprecia que las líneas de la caja permanecen muy cercanas a lo que se tenía inicialmente. Se destaca que no hay presencia de outliers, y se nota que la línea superior se desplaza ligeramente más cerca de la caja en esta comparación."
   ]
  },
  {
   "cell_type": "code",
   "execution_count": null,
   "metadata": {},
   "outputs": [],
   "source": [
    "winsorize_and_boxplot(m30_sensors,'intensidad')"
   ]
  },
  {
   "cell_type": "markdown",
   "metadata": {},
   "source": [
    "\n",
    "Al observar el nuevo campo creado mediante la winsorización (intensidad_win) y realizar un análisis comparativo con los datos originales, se aprecia que las líneas de la caja permanecen muy cercanas a lo que se tenía inicialmente. Se destaca que no hay presencia de outliers, y se nota que la línea superior se desplaza ligeramente más cerca de la caja en esta comparación."
   ]
  },
  {
   "cell_type": "markdown",
   "metadata": {},
   "source": [
    "C30 Aqui se repite el mismo analisis"
   ]
  },
  {
   "cell_type": "code",
   "execution_count": null,
   "metadata": {},
   "outputs": [],
   "source": [
    "#analisis bloxplot de los datos discrepantes en intensidade sensor M30\n",
    "analisis_boxplot(c30_sensors, 'intensidad')\n",
    "analisis_boxplot(c30_sensors, 'vmed')"
   ]
  },
  {
   "cell_type": "markdown",
   "metadata": {},
   "source": [
    "Aqui tambien se notan muchos datos discrepantes por lo qual ire tambiens proceder con la winsorizacion."
   ]
  },
  {
   "cell_type": "code",
   "execution_count": null,
   "metadata": {},
   "outputs": [],
   "source": [
    "winsorize_and_boxplot(c30_sensors,'vmed')"
   ]
  },
  {
   "cell_type": "code",
   "execution_count": null,
   "metadata": {},
   "outputs": [],
   "source": [
    "winsorize_and_boxplot(c30_sensors,'intensidad')"
   ]
  },
  {
   "cell_type": "markdown",
   "metadata": {},
   "source": [
    "\n",
    "Al observar el nuevo campo creado mediante la winsorización (vmed_win, intensidad_win) y realizar un análisis comparativo con los datos originales de intensidad y velocidad en C30, se aprecia que las líneas de la caja permanecen muy cercanas a lo que se tenía inicialmente. Se destaca que no hay presencia de outliers, y se nota que la línea superior se desplaza ligeramente más cerca de la caja en esta comparación"
   ]
  },
  {
   "cell_type": "markdown",
   "metadata": {},
   "source": [
    "Repetimos mas una vez el analisi en sensores Urbanos"
   ]
  },
  {
   "cell_type": "code",
   "execution_count": null,
   "metadata": {},
   "outputs": [],
   "source": [
    "#analisis bloxplot de los datos discrepantes en intensidade sensor M30\n",
    "analisis_boxplot(urb_sensors, 'intensidad')\n",
    "analisis_boxplot(urb_sensors, 'vmed')"
   ]
  },
  {
   "cell_type": "markdown",
   "metadata": {},
   "source": [
    "Hice el mismo analisis con los datos urbanos, pero los datos de velocidad estan todos con ceros como ya habiamos visto en el analisis de los datos missing por esta razon solo hare la  la winsorizacion de los datos de intensidad."
   ]
  },
  {
   "cell_type": "code",
   "execution_count": null,
   "metadata": {},
   "outputs": [],
   "source": [
    "winsorize_and_boxplot(urb_sensors,'intensidad')"
   ]
  },
  {
   "cell_type": "markdown",
   "metadata": {},
   "source": [
    "En los sensores urbanos, en la intensidad, se observa más o menos el mismo resultado de las demás analisis. Sin embargo, dado que la velocidad está completamente en ceros, el boxplot está vacío y no hay necesidad de realizar pruebas adicionales."
   ]
  },
  {
   "cell_type": "markdown",
   "metadata": {},
   "source": [
    "Los datos winsorizados son útiles para atenuar el impacto de valores atípicos en análisis de series temporales, machine learning, estudios comparativos y descriptivos. Esta técnica mejora la estabilidad de los datos, permitiendo una visión más precisa y equilibrada, especialmente en situaciones donde la presencia de outliers puede distorsionar las conclusiones de los análisis realizados. En este analisis podemo utilizar los datos Winsorizados para comparar los resultados."
   ]
  },
  {
   "cell_type": "markdown",
   "metadata": {},
   "source": [
    "<center>Primera parte: Conociendo a los datos que se van a manejar:</center>"
   ]
  },
  {
   "cell_type": "markdown",
   "metadata": {},
   "source": [
    "- <b> Número de registros con los que se va a trabajar.<b>"
   ]
  },
  {
   "cell_type": "markdown",
   "metadata": {},
   "source": [
    "Utilizo la función len para determinar la cantidad de sensores y presento la información en la pantalla mediante un print"
   ]
  },
  {
   "cell_type": "code",
   "execution_count": null,
   "metadata": {},
   "outputs": [],
   "source": [
    "\n",
    "print(\"El numero de registros que exitens en el csv y que se vana utilizar en esta analisis es:\",len(datos_madrid_trafico))"
   ]
  },
  {
   "cell_type": "markdown",
   "metadata": {},
   "source": [
    "- <b> Número de sensores sensores_distintos que han realizado la recogida de datos.<b>"
   ]
  },
  {
   "cell_type": "markdown",
   "metadata": {},
   "source": [
    "En primer lugar, creo una variable que almacena todos los tipos únicos de los sensores (tipo_elem) y uno que almacena todos los Id unicos de sensores(id). Entonces imprimo los resultados utilizando un print, mostrando únicamente la cantidad de valores de los tipos y de id distintos mediante la función len"
   ]
  },
  {
   "cell_type": "code",
   "execution_count": null,
   "metadata": {},
   "outputs": [],
   "source": [
    "sensores_distintos=datos_madrid_trafico[\"tipo_elem\"].unique()\n",
    "sensores_distintos_id=datos_madrid_trafico[\"id\"].unique()\n",
    "\n",
    "print(\"Son {} tipos de elementos que vamos a trabajar, el total de sensores distitnos és {}\".format((len(sensores_distintos)),len(sensores_distintos_id)))"
   ]
  },
  {
   "cell_type": "markdown",
   "metadata": {},
   "source": [
    "- <b> Número de sensores ubicados en zonas urbanas y en la M-30<b>"
   ]
  },
  {
   "cell_type": "markdown",
   "metadata": {},
   "source": [
    "Busco todos los sensores con identificación única de M30, zona urbana y ambos conjuntos. Utilizo el print con la función len para visualizar las cantidades."
   ]
  },
  {
   "cell_type": "code",
   "execution_count": null,
   "metadata": {},
   "outputs": [],
   "source": [
    "count_sensores_m30=m30_sensors[\"id\"].unique()\n",
    "count_sensores_urbanos=urb_sensors[\"id\"].unique()\n",
    "count_sensores_urb_m30=sensores_m30_urb[\"id\"].unique()\n",
    "\n",
    "print(\"La cantidade de sensores en M30 %s y Urbanos %s y el total de UBR y M30 es %s \" % (len(count_sensores_m30),len(count_sensores_urbanos),len(count_sensores_urb_m30)))"
   ]
  },
  {
   "cell_type": "markdown",
   "metadata": {},
   "source": [
    "***Creando funciones para as proximas analises***"
   ]
  },
  {
   "cell_type": "markdown",
   "metadata": {},
   "source": [
    "La función `agrupar_sensores` realiza la agrupación de datos en un DataFrame según el ID del sensor. En esta agrupación, se llevan a cabo diversas operaciones de agregación, como la suma de la intensidad y la velocidad media, así como la selección del primer tipo de elemento encontrado para cada sensor. El resultado es un nuevo DataFrame llamado sensores_agrupados, que incluye las columnas 'intensidad', 'tipo_elem', 'vmed', y 'count_id' (representando la cuenta del ID del sensor). Adicionalmente, se crea una nueva columna llamada 'intensidad_media_sensor', que calcula la media de la intensidad por sensor y se redondea a dos decimales. Este DataFrame agrupado y modificado se devuelve como el resultado final de la función."
   ]
  },
  {
   "cell_type": "code",
   "execution_count": null,
   "metadata": {},
   "outputs": [],
   "source": [
    "def agrupar_sensores(dataframe):\n",
    "    sensores_agrupados = dataframe.groupby('id').agg({\n",
    "    'intensidad': 'sum',\n",
    "    'tipo_elem': 'first',\n",
    "    'vmed':'sum',\n",
    "    'id': 'count'  \n",
    "}).rename(columns={'id': 'count_id'}).reset_index()\n",
    "    sensores_agrupados['intensidad_media_sensor']=round((sensores_agrupados['intensidad']/sensores_agrupados['count_id']),2)\n",
    "    sensores_agrupados['v_media_sensor']=round((sensores_agrupados['vmed']/sensores_agrupados['count_id']),2)\n",
    "\n",
    "    return sensores_agrupados"
   ]
  },
  {
   "cell_type": "markdown",
   "metadata": {},
   "source": [
    "Esta función, llamada `calcula_max_min`, toma un DataFrame, una columna específica y un valor informativo, que es para ifnormar si estamos tratando de velocidad o intensidad, como entrada. Luego, identifica el máximo y mínimo valor en esa columna, proporcionando detalles sobre el sensor correspondiente con la información relevante. En otras palabras, te informa sobre el sensor que registra el valor más alto y el sensor que registra el valor más bajo en una columna específica del DataFrame, junto con detalles adicionales como el tipo de elemento, el ID del sensor y el valor registrado."
   ]
  },
  {
   "cell_type": "code",
   "execution_count": null,
   "metadata": {},
   "outputs": [],
   "source": [
    "#funcion para calcular valores max y min de los campos\n",
    "def calcula_max_min(dataframe,columna, valor):\n",
    "    max = dataframe.loc[dataframe[columna].idxmax()]\n",
    "    min = dataframe.loc[dataframe[columna].idxmin()]\n",
    "    informacion=valor\n",
    "    print(\"El sensor con {} más alta esta en {} es el {} el cual registra un valor de {} de {}\".format(informacion, max['tipo_elem'], max['id'], informacion, max[columna]))\n",
    "    print(\"El sensor con {} media más baja esta en {} es el {} el cual registra un valor de {} de {}\".format(informacion, min['tipo_elem'], min['id'], informacion, min[columna]))\n",
    "\n"
   ]
  },
  {
   "cell_type": "markdown",
   "metadata": {},
   "source": [
    "***Afluencias - Sensor o sensores que registran las mayores y menores afluencias de tráflco,tanto en zonas urbanas como en la M-30.***"
   ]
  },
  {
   "cell_type": "markdown",
   "metadata": {},
   "source": [
    "Calculando el ID con mayor y menor afluencia media de todos los sensores"
   ]
  },
  {
   "cell_type": "code",
   "execution_count": null,
   "metadata": {},
   "outputs": [],
   "source": [
    "sensores_todos=agrupar_sensores(datos_madrid_trafico)\n",
    "calcula_max_min(sensores_todos, 'intensidad_media_sensor', 'afluencia media')\n"
   ]
  },
  {
   "cell_type": "markdown",
   "metadata": {},
   "source": [
    "Calculando el ID con mayor y menor afluencia media de los sensores de M30"
   ]
  },
  {
   "cell_type": "code",
   "execution_count": null,
   "metadata": {},
   "outputs": [],
   "source": [
    "sensores_m30=agrupar_sensores(m30_sensors)\n",
    "calcula_max_min(sensores_m30, 'intensidad_media_sensor', 'afluencia media')"
   ]
  },
  {
   "cell_type": "markdown",
   "metadata": {},
   "source": [
    "Calculando el ID con mayor y menor afluencia  media de los sensores de URB"
   ]
  },
  {
   "cell_type": "code",
   "execution_count": null,
   "metadata": {},
   "outputs": [],
   "source": [
    "sensores_urb=agrupar_sensores(urb_sensors)\n",
    "calcula_max_min(sensores_urb, 'intensidad_media_sensor', 'afluencia media')"
   ]
  },
  {
   "cell_type": "markdown",
   "metadata": {},
   "source": [
    "Identificando el registro individual con la mayor y menor afluencia entre todos los sensores"
   ]
  },
  {
   "cell_type": "code",
   "execution_count": null,
   "metadata": {},
   "outputs": [],
   "source": [
    "calcula_max_min(datos_madrid_trafico, 'intensidad', 'afluencia')"
   ]
  },
  {
   "cell_type": "markdown",
   "metadata": {},
   "source": [
    "Identificando el registro individual con la mayor y menor afluencia de M30"
   ]
  },
  {
   "cell_type": "code",
   "execution_count": null,
   "metadata": {},
   "outputs": [],
   "source": [
    "calcula_max_min(m30_sensors, 'intensidad', 'afluencia')"
   ]
  },
  {
   "cell_type": "markdown",
   "metadata": {},
   "source": [
    "Identificando el registro individual con la mayor y menor afluencia de URB"
   ]
  },
  {
   "cell_type": "code",
   "execution_count": null,
   "metadata": {},
   "outputs": [],
   "source": [
    "calcula_max_min(urb_sensors, 'intensidad', 'afluencia')"
   ]
  },
  {
   "cell_type": "markdown",
   "metadata": {},
   "source": [
    "- Sensores que registran afuencias más cercanas a la media, a la moda y a la mediana."
   ]
  },
  {
   "cell_type": "markdown",
   "metadata": {},
   "source": [
    "Cree una función que calcula la media, moda y mediana de la columna proporcionada en el DataFrame. Luego, encuentra el registro con el valor más cercano a cada una de estas estadísticas y muestra los resultados y detalles del sensor correspondiente.\n",
    "La función `calcula_datos_cercanos_medias` se divide en tres partes para realizar análisis estadísticos y encontrar valores cercanos en un DataFrame:\n",
    "\n",
    "*Parte 1: Calcular Estadísticas*\n",
    "\n",
    "En esta sección, se calculan tres medidas estadísticas sobre la columna específica del DataFrame:\n",
    "- Media Total: Se obtiene utilizando la función `mean()` sobre la columna.\n",
    "- Moda Total: Se calcula mediante la función `mode()` y se toma el primer valor utilizando `iloc[0]`.\n",
    "- Mediana Total: Se determina con la función `median()`.\n",
    "\n",
    "*Parte 2: Encontrar Valores Cercanos*\n",
    "\n",
    "En esta etapa, se encuentra el registro con el valor más cercano a la media, moda y mediana de la columna dada:\n",
    "- Sensor Cercano a la Media: Se localiza utilizando `idxmin()` después de calcular la diferencia absoluta entre cada valor de la columna y la media total.\n",
    "- Sensor Cercano a la Moda: Similar al anterior, pero con respecto a la moda total.\n",
    "- Sensor Cercano a la Mediana: Similar al anterior, pero con respecto a la mediana total.\n",
    "\n",
    "*Parte 3: Mostrar Resultados*\n",
    "\n",
    "Esta sección imprime los resultados calculados en la *Parte 1* y presenta detalles específicos sobre los sensores que registran valores más cercanos a la media, moda y mediana:\n",
    "- Detalles del Sensor más Cercano a la Media: Muestra el tipo de elemento, ID y valor registrado del sensor con el valor más cercano a la media total.\n",
    "- Detalles del Sensor más Cercano a la Moda: Similar al anterior, pero para la moda total.\n",
    "- Detalles del Sensor más Cercano a la Mediana: Similar al anterior, pero para la mediana total.\n"
   ]
  },
  {
   "cell_type": "code",
   "execution_count": null,
   "metadata": {},
   "outputs": [],
   "source": [
    "def calcula_datos_cercanos_medias(dataframe, column):\n",
    "\n",
    "    # Parte 1: Calcular Estadísticas\n",
    "    media_total =round(dataframe[column].mean(),2)\n",
    "    moda_total = round(dataframe[column].mode().iloc[0],2)\n",
    "    mediana_total = round(dataframe[column].median(),2)\n",
    "\n",
    "    # Parte 2: Encontrar Valores Cercanos\n",
    "    sensor_cercano_media_total = dataframe.loc[(dataframe[column] - media_total).abs().idxmin()]\n",
    "    sensor_cercano_moda_total = dataframe.loc[(dataframe[column] - moda_total).abs().idxmin()]\n",
    "    sensor_cercano_mediana_total = dataframe.loc[(dataframe[column] - mediana_total).abs().idxmin()]\n",
    "\n",
    "    #Parte 3: Mostrar Resultados\n",
    "    print(\"Resultados:\")\n",
    "    print(f\"Media Total: {media_total}\")\n",
    "    print(f\"Moda Total: {moda_total}\")\n",
    "    print(f\"Mediana Total: {mediana_total}\")\n",
    "\n",
    "    print(\"\\nDetalles del Sensor más Cercano a la Media: \")\n",
    "    print(f\"Tipo de Elemento: {sensor_cercano_media_total['tipo_elem']}, ID: {sensor_cercano_media_total['id']}, {column}: {sensor_cercano_media_total[column]}\")\n",
    "\n",
    "    print(\"\\nDetalles del Sensor más Cercano a la Moda:\")\n",
    "    print(f\"Tipo de Elemento: {sensor_cercano_moda_total['tipo_elem']}, ID: {sensor_cercano_moda_total['id']}, {column}: {sensor_cercano_moda_total[column]}\")\n",
    "\n",
    "    print(\"\\nDetalles del Sensor más Cercano a la Mediana:\")\n",
    "    print(f\"Tipo de Elemento: {sensor_cercano_mediana_total['tipo_elem']}, ID: {sensor_cercano_mediana_total['id']}, {column}: {sensor_cercano_mediana_total[column]}\")\n",
    "\n"
   ]
  },
  {
   "cell_type": "markdown",
   "metadata": {},
   "source": [
    "Sensores con afluencias más cercanas a la media, moda y mediana todos los sensores con los datos de todo el csv importado en `datos_madrid_trafico`"
   ]
  },
  {
   "cell_type": "code",
   "execution_count": null,
   "metadata": {},
   "outputs": [],
   "source": [
    "calcula_datos_cercanos_medias(datos_madrid_trafico,'intensidad')"
   ]
  },
  {
   "cell_type": "markdown",
   "metadata": {},
   "source": [
    "Sensores con afluencias más cercanas a la media, moda y mediana de los sensores M30 y URB. Utilizo el dataset que preparé con los datos `sensores_m30_urb`."
   ]
  },
  {
   "cell_type": "code",
   "execution_count": null,
   "metadata": {},
   "outputs": [],
   "source": [
    "calcula_datos_cercanos_medias(sensores_m30_urb,'intensidad')"
   ]
  },
  {
   "cell_type": "markdown",
   "metadata": {},
   "source": [
    "Sensores con afluencias más cercanas a la media, moda y mediana de los sensores M30 y URB. Utilizo el dataset que preparé con los datos `m30_sensors`."
   ]
  },
  {
   "cell_type": "code",
   "execution_count": null,
   "metadata": {},
   "outputs": [],
   "source": [
    "calcula_datos_cercanos_medias(m30_sensors,'intensidad')"
   ]
  },
  {
   "cell_type": "markdown",
   "metadata": {},
   "source": [
    "Sensores con afluencias más cercanas a la media, moda y mediana de los sensores M30 y URB. Utilizo el dataset que preparé con los datos `urb_sensors`."
   ]
  },
  {
   "cell_type": "code",
   "execution_count": null,
   "metadata": {},
   "outputs": [],
   "source": [
    "# Calculo del sensor más cercano de la media moda y mediana de los sensores urbanos, este sigue la misma logica de los anteriores\n",
    "calcula_datos_cercanos_medias(urb_sensors,'intensidad')"
   ]
  },
  {
   "cell_type": "markdown",
   "metadata": {},
   "source": [
    "***Velocidades***"
   ]
  },
  {
   "cell_type": "markdown",
   "metadata": {},
   "source": [
    "- Sensor o sensores que registran las velocidades de circulación más altas y más bajas, tanto en zonas urbanas como en la M-30"
   ]
  },
  {
   "cell_type": "markdown",
   "metadata": {},
   "source": [
    "Calculando el ID con mayor y menor afluencia  media de todos los sensores utilizando el dataframe que agrupamos los datos por ID anteriomente `sensores_todos`"
   ]
  },
  {
   "cell_type": "code",
   "execution_count": null,
   "metadata": {},
   "outputs": [],
   "source": [
    "calcula_max_min(sensores_todos, 'v_media_sensor', 'velocidad media')"
   ]
  },
  {
   "cell_type": "markdown",
   "metadata": {},
   "source": [
    "Calculando el ID con mayor y menor afluencia  media de todos los sensores de M30 utilizando el dataframe que agrupamos los datos por ID anteriomente `sensores_m30`"
   ]
  },
  {
   "cell_type": "code",
   "execution_count": null,
   "metadata": {},
   "outputs": [],
   "source": [
    "calcula_max_min(sensores_m30, 'v_media_sensor', 'velocidad media')"
   ]
  },
  {
   "cell_type": "markdown",
   "metadata": {},
   "source": [
    "Calculando el ID con mayor y menor afluencia  media de todos los sensores de URB utilizando el dataframe que agrupamos los datos por ID anteriomente `sensores_urb`"
   ]
  },
  {
   "cell_type": "code",
   "execution_count": null,
   "metadata": {},
   "outputs": [],
   "source": [
    "calcula_max_min(sensores_urb, 'v_media_sensor', 'velocidad media')"
   ]
  },
  {
   "cell_type": "markdown",
   "metadata": {},
   "source": [
    "Identificando el registro individual con la mayor y menor velocidad cia entre todos los sensores"
   ]
  },
  {
   "cell_type": "code",
   "execution_count": null,
   "metadata": {},
   "outputs": [],
   "source": [
    "#Determinando los registros de mayor y menor velocidad de todos sensores\n",
    "calcula_max_min(datos_madrid_trafico, 'vmed', 'velocidad')"
   ]
  },
  {
   "cell_type": "markdown",
   "metadata": {},
   "source": [
    "Identificando el registro individual con la mayor y menor velocidad de todos los sensores de M30"
   ]
  },
  {
   "cell_type": "code",
   "execution_count": null,
   "metadata": {},
   "outputs": [],
   "source": [
    "#Determinando los registros de mayor y menor velocidad de M30\n",
    "calcula_max_min(m30_sensors, 'vmed', 'velocidad')"
   ]
  },
  {
   "cell_type": "markdown",
   "metadata": {},
   "source": [
    "Identificando el registro individual con la mayor y menor velocidad entre de los sensores URB"
   ]
  },
  {
   "cell_type": "code",
   "execution_count": null,
   "metadata": {},
   "outputs": [],
   "source": [
    "#Determinando los registros de mayor y menor afluencia de URB\n",
    "calcula_max_min(urb_sensors, 'vmed', 'velocidad')"
   ]
  },
  {
   "cell_type": "markdown",
   "metadata": {},
   "source": [
    "- Sensores que registran velocidades más cercanas a la media, a la moda y a la mediana."
   ]
  },
  {
   "cell_type": "markdown",
   "metadata": {},
   "source": [
    "Sensores con velocidad más cercanas a la media, moda y mediana de todos los sensores"
   ]
  },
  {
   "cell_type": "code",
   "execution_count": null,
   "metadata": {},
   "outputs": [],
   "source": [
    "calcula_datos_cercanos_medias(datos_madrid_trafico,'vmed')"
   ]
  },
  {
   "cell_type": "markdown",
   "metadata": {},
   "source": [
    "Sensores con velocidad de M30 y Urb más cercanas a la media, moda y mediana"
   ]
  },
  {
   "cell_type": "code",
   "execution_count": null,
   "metadata": {},
   "outputs": [],
   "source": [
    "calcula_datos_cercanos_medias(sensores_m30_urb,'vmed')"
   ]
  },
  {
   "cell_type": "markdown",
   "metadata": {},
   "source": [
    "Sensores con velocidad más cercanas a la media, moda y mediana solo en M30\n"
   ]
  },
  {
   "cell_type": "code",
   "execution_count": null,
   "metadata": {},
   "outputs": [],
   "source": [
    "calcula_datos_cercanos_medias(m30_sensors,'vmed')"
   ]
  },
  {
   "cell_type": "markdown",
   "metadata": {},
   "source": [
    "Sensores con velocidad más cercanas a la media, moda y mediana de sensores solamente Urbanos"
   ]
  },
  {
   "cell_type": "code",
   "execution_count": null,
   "metadata": {},
   "outputs": [],
   "source": [
    "calcula_datos_cercanos_medias(urb_sensors,'vmed')"
   ]
  },
  {
   "cell_type": "markdown",
   "metadata": {},
   "source": [
    "Para la analisis de un unico sensor, creo el codigo que recibe el numero del sensor que el usuario quiere analisar.\n",
    "\n",
    "*Parte 1: Crear una lista de los ids unicos de los sensores*\n",
    "Se crea una lista llamada all_sensors que contiene todos los identificadores únicos de los sensores en el conjunto de datos de tráfico de Madrid (datos_madrid_trafico).\n",
    "\n",
    "*Parte 2: Selección del sensor*\n",
    "El usuario tiene la opción de elegir un sensor para su análisis. Se solicita al usuario que ingrese el número correspondiente al sensor que desea analizar.\n",
    "\n",
    "*Parte 3: Validación y Creación de un Dataset para el Sensor Seleccionado*\n",
    "\n",
    "Se verifica si el número ingresado por el usuario está en la lista de todos los sensores obtenidos del DataFrame principal.\n",
    "Si el sensor seleccionado es válido, se imprime un mensaje de confirmación.\n",
    "\n",
    "*Parte 4: Manejo de Errores:*\n",
    "Se incorpora una validación para asegurarse de que el usuario ingrese un número entero válido. En caso de que el usuario ingrese datos no válidos, se imprime un mensaje de error."
   ]
  },
  {
   "cell_type": "code",
   "execution_count": null,
   "metadata": {},
   "outputs": [],
   "source": [
    "all_sensors = datos_madrid_trafico['id'].unique().tolist()\n",
    "try:\n",
    "        # usuario puede selecionar el sensor que quiere utilizar para el analisis\n",
    "        sensor_seleccionado = int(input(\"Elija el sensor que quiere analizar (Ingrese el número correspondiente): \"))\n",
    "        \n",
    "        # Validando si el sensor existe en contra el listado de sensores que cogimos del dataframe principal de todos lo sensores de madrid\n",
    "        if sensor_seleccionado in all_sensors:\n",
    "            print(f\"Ha seleccionado el sensor {sensor_seleccionado}.\")\n",
    "        else:\n",
    "            print(\"Entrada no válida. Por favor, elija un sensor válido.\")\n",
    "except ValueError:\n",
    "        print(\"Error: Ingrese un número entero válido.\")\n",
    "\n"
   ]
  },
  {
   "cell_type": "markdown",
   "metadata": {},
   "source": [
    "Ahora creamos un DataFrame de este senosr espcifico para utilizarmos en los proximos analisis, filtrando los datos originales para incluir únicamente la información correspondiente al sensor seleccionado. En el primer paso, se inicia el filtrado de los datos del sensor elegido. Posteriormente, se crea un nuevo DataFrame específico para este sensor. Finalmente, se lleva a cabo una transformación de la columna de fechas, convirtiéndola al formato datetime, lo que facilita las operaciones temporales. "
   ]
  },
  {
   "cell_type": "code",
   "execution_count": null,
   "metadata": {},
   "outputs": [],
   "source": [
    "\n",
    "sensor_unico = datos_madrid_trafico[datos_madrid_trafico['id'] == sensor_seleccionado] \n",
    "sensor_unico=pd.DataFrame(sensor_unico)\n",
    "sensor_unico['fecha'] = pd.to_datetime(sensor_unico['fecha'])\n"
   ]
  },
  {
   "cell_type": "markdown",
   "metadata": {},
   "source": [
    "1. Dado un sensor de trafico, mostrar el número de vehículos registrados y la velocidad media en periodos de 15 minutos y de una hora durante un día."
   ]
  },
  {
   "cell_type": "markdown",
   "metadata": {},
   "source": [
    "Primero, filtramos los datos del DataFrame `sensor_unico` para incluir únicamente aquellos correspondientes al día específico ('2023-10-04'). Después, establecemos la columna de fechas como índice en el nuevo DataFrame resultante llamado `sensor_dia`."
   ]
  },
  {
   "cell_type": "code",
   "execution_count": null,
   "metadata": {},
   "outputs": [],
   "source": [
    "sensor_dia = sensor_unico[sensor_unico['fecha'].dt.date == pd.to_datetime('2023-10-04').date()]\n",
    "sensor_dia.set_index('fecha', inplace=True)"
   ]
  },
  {
   "cell_type": "markdown",
   "metadata": {},
   "source": [
    "- Velocidad media y Numero de registros a cada 15 min en un dia"
   ]
  },
  {
   "cell_type": "markdown",
   "metadata": {},
   "source": [
    "Para ejecutar la actividad de mostrar las velocidades y la afluencia por tiempo, he creado una función `timeframe` que toma un DataFrame, dos nombres de columna para el análisis y el tiempo necesario para realizar el resample. La función utiliza el método resample para llevar a cabo un muestreo temporal con el intervalo de tiempo proporcionado. Como resultado, se obtiene un nuevo DataFrame que representa el promedio de las columnas especificadas dentro de cada intervalo de tiempo."
   ]
  },
  {
   "cell_type": "code",
   "execution_count": null,
   "metadata": {},
   "outputs": [],
   "source": [
    "def timeframe(dataframe,columna1, columna2,tiempo):\n",
    "    sensor_time= dataframe[[columna1, columna2]].resample(tiempo).mean()\n",
    "    return sensor_time"
   ]
  },
  {
   "cell_type": "markdown",
   "metadata": {},
   "source": [
    "También he creado una función llamada `plotting` que genera los gráficos a partir de los datos recopilados por la función.\n",
    "La función toma un DataFrame utilizando llas velocidades (vmed), e intensidades. \n",
    "\n",
    "La figura resultante tiene dos subgráficos:  <br>\n",
    "Gráfico de Velocidad: Muestra la velocidad en función del tiempo. <br>\n",
    "Gráfico de Intensidad: Muestra la intensidad en función del tiempo. <br>\n",
    "Ambos gráficos comparten el mismo eje x, correspondiente a las fechas y horas. Tiene una función auxiliar `configurar_grafico` para evitar la repetición de código y simplificar la configuración de los gráficos. La función `configurar_grafico` establece el formato de las fechas en el eje x, ajusta el formato de las etiquetas, y agrega títulos y etiquetas de los ejes."
   ]
  },
  {
   "cell_type": "code",
   "execution_count": null,
   "metadata": {},
   "outputs": [],
   "source": [
    "def plotting(dataframe, periodo):\n",
    "    # Definimos el tamaño de la figura\n",
    "    plt.figure(figsize=(15, 11))\n",
    "\n",
    "    # Grafico de Velocidad\n",
    "    plt.subplot(211)\n",
    "    plt.plot(dataframe.index, dataframe['vmed'], label='Velocidad', color='red')\n",
    "    configurar_grafico(dataframe.index, 'Velocidad a cada {}'.format(periodo))\n",
    "\n",
    "    # Grafico de Intensidad\n",
    "    plt.subplot(212)\n",
    "    plt.plot(dataframe.index, dataframe['intensidad'], label='Intensidad', color='blue')\n",
    "    configurar_grafico(dataframe.index, 'Intensidad a cada {}'.format(periodo), True)\n",
    "\n",
    "    plt.tight_layout()\n",
    "    plt.show()\n",
    "\n",
    "def configurar_grafico(eje_x, titulo, segundo_grafico=False):\n",
    "    plt.gca().xaxis.set_major_formatter(DateFormatter('%Y-%m-%d %H:%M:%S'))\n",
    "    plt.xticks(rotation=45, ha='right')\n",
    "    plt.title(titulo)\n",
    "    plt.xlabel('Día y hora')\n",
    "    plt.ylabel('Velocidad' if not segundo_grafico else 'Intensidad')\n",
    "    plt.legend()\n"
   ]
  },
  {
   "cell_type": "markdown",
   "metadata": {},
   "source": [
    "\n",
    "-> Cada 15 min, durante un día completo - Utilizamos la función para calcular y representar gráficamente los datos. Insertamos el valor del tiempo `15T` y la información del gráfico para representar el tiempo `15 min por dia`."
   ]
  },
  {
   "cell_type": "code",
   "execution_count": null,
   "metadata": {},
   "outputs": [],
   "source": [
    "\n",
    "sensor_15m_dia = timeframe(sensor_dia,'vmed','intensidad','15T')\n",
    "\n",
    "plotting(sensor_15m_dia, '15 min por dia')"
   ]
  },
  {
   "cell_type": "markdown",
   "metadata": {},
   "source": [
    "-> Cada hora, durante un día completo - Utilizamos la función para calcular y representar gráficamente los datos. Únicamente modificamos el valor del tiempo `1H` y la información del gráfico para representar el cambio de `hora por día`."
   ]
  },
  {
   "cell_type": "code",
   "execution_count": null,
   "metadata": {},
   "outputs": [],
   "source": [
    "sensor_hora_dia = timeframe(sensor_dia,'vmed','intensidad','1H')\n",
    "plotting(sensor_hora_dia, 'hora por dia')\n",
    "\n"
   ]
  },
  {
   "cell_type": "markdown",
   "metadata": {},
   "source": [
    "2. Dado un sensor de tráfico, mostrar el número de vehículos registrados y la velocidad media en periodos de 15 minutos, de una hora y de un día durante\n",
    "una semana."
   ]
  },
  {
   "cell_type": "markdown",
   "metadata": {},
   "source": [
    "Para este análisis, comenzamos seleccionando las fechas de la semana que deseamos estudiar. Posteriormente, creamos un nuevo conjunto de datos utilizando un filtro en el campo de fecha para extraer la información correspondiente. Además, configuramos el campo de fecha como índice nuevamente, facilitando así el manejo y análisis de los datos"
   ]
  },
  {
   "cell_type": "code",
   "execution_count": null,
   "metadata": {},
   "outputs": [],
   "source": [
    "semana_inicio = '2023-10-01'\n",
    "semana_fin='2023-10-07'\n",
    "\n",
    "semana = sensor_unico.loc[sensor_unico['fecha'].between(pd.to_datetime(semana_inicio), pd.to_datetime(semana_fin))]\n",
    "semana.set_index('fecha', inplace=True)\n"
   ]
  },
  {
   "cell_type": "markdown",
   "metadata": {},
   "source": [
    "-> Cada 15 min, durante una semana - Utilizamos la misma función para calcular y representar gráficamente los datos.EL valor del tiempo `15T` y la información del gráfico para representar el cambio de `15 min en una semana`."
   ]
  },
  {
   "cell_type": "code",
   "execution_count": null,
   "metadata": {},
   "outputs": [],
   "source": [
    "# primero calcular las velocidades y intensidades medias a cada 15 min\n",
    "sensor_15m_semana=timeframe(semana,'vmed','intensidad','15T')\n",
    "#utilizando la funcion hago el plot de los datos\n",
    "plotting(sensor_15m_semana, '15 min en una semana')"
   ]
  },
  {
   "cell_type": "markdown",
   "metadata": {},
   "source": [
    "-> Cada 1 hora, durante una semana - Utilizamos la misma función para calcular y representar gráficamente los datos.EL valor del tiempo `1H` y la información del gráfico para representar el cambio de `hora en una semana`.\n"
   ]
  },
  {
   "cell_type": "code",
   "execution_count": null,
   "metadata": {},
   "outputs": [],
   "source": [
    "# primero calcular las velocidades y intensidades medias a cada 15 min\n",
    "sensor_hora_semana=timeframe(semana,'vmed','intensidad','1H')\n",
    "#utilizando la funcion hago el plot de los datos\n",
    "plotting(sensor_hora_semana, 'hora en una semana')\n"
   ]
  },
  {
   "cell_type": "markdown",
   "metadata": {},
   "source": [
    "-> Cada dia, durante una semana - Utilizamos la misma función para calcular y representar gráficamente los datos.EL valor del tiempo `D` y la información del gráfico para representar el cambio de `dia en una semana`.\n"
   ]
  },
  {
   "cell_type": "code",
   "execution_count": null,
   "metadata": {},
   "outputs": [],
   "source": [
    "# primero calcular las velocidades y intensidades medias a cada 15 min\n",
    "sensor_dia_sem=timeframe(semana,'vmed','intensidad','D')\n",
    "#utilizando la funcion hago el plot de los datos\n",
    "plotting(sensor_dia_sem, 'dia en una semana')"
   ]
  },
  {
   "cell_type": "markdown",
   "metadata": {},
   "source": [
    "3. Dado un sensor de tráfico, mostrar el número de vehículos registrados y la\n",
    "velocidad media en periodos de 15 minutos, de una hora, de un día y de una\n",
    "semana durante un mes."
   ]
  },
  {
   "cell_type": "markdown",
   "metadata": {},
   "source": [
    "Para este análisis, comenzamos seleccionando las fechas del mes que deseamos estudiar. Posteriormente, creamos un nuevo conjunto de datos utilizando un filtro en el campo de fecha para extraer la información correspondiente. Además, configuramos el campo de fecha como índice nuevamente, facilitando así el manejo y análisis de los datos"
   ]
  },
  {
   "cell_type": "code",
   "execution_count": null,
   "metadata": {},
   "outputs": [],
   "source": [
    "mes_inicio = '2023-10-01'\n",
    "mes_fin='2023-10-31'\n",
    "\n",
    "mes = sensor_unico.loc[sensor_unico['fecha'].between(pd.to_datetime(mes_inicio), pd.to_datetime(mes_fin))]\n",
    "mes.set_index('fecha', inplace=True)"
   ]
  },
  {
   "cell_type": "markdown",
   "metadata": {},
   "source": [
    "-> Cada 15 min, durante un mes - Utilizamos la misma función para calcular y representar gráficamente los datos.EL valor del tiempo `15T` y la información del gráfico para representar el cambio de `15 min en un mes`."
   ]
  },
  {
   "cell_type": "code",
   "execution_count": null,
   "metadata": {},
   "outputs": [],
   "source": [
    "sensor_15m_mes=timeframe(mes,'vmed','intensidad','15T')\n",
    "plotting(sensor_15m_mes, '15 min en un mes')"
   ]
  },
  {
   "cell_type": "markdown",
   "metadata": {},
   "source": [
    "-> Cada 1 hora, durante un mes - Utilizamos la misma función para calcular y representar gráficamente los datos.EL valor del tiempo `1H` y la información del gráfico para representar el cambio de `hora en un mes`."
   ]
  },
  {
   "cell_type": "code",
   "execution_count": null,
   "metadata": {},
   "outputs": [],
   "source": [
    "# primero calcular las velocidades y intensidades medias a cada 15 min\n",
    "sensor_hora_mes=timeframe(mes,'vmed','intensidad','1H')\n",
    "#utilizando la funcion hago el plot de los datos\n",
    "plotting(sensor_hora_mes, 'hora en un mes')"
   ]
  },
  {
   "cell_type": "markdown",
   "metadata": {},
   "source": [
    "-> Cada dia, durante un mes - Utilizamos la misma función para calcular y representar gráficamente los datos.EL valor del tiempo `D` y la información del gráfico para representar el cambio de `dia en un mes`."
   ]
  },
  {
   "cell_type": "code",
   "execution_count": null,
   "metadata": {},
   "outputs": [],
   "source": [
    "# primero calcular las velocidades y intensidades medias a cada 15 min\n",
    "sensor_dia_mes=timeframe(mes,'vmed','intensidad','D')\n",
    "#utilizando la funcion hago el plot de los datos\n",
    "plotting(sensor_dia_mes, 'dia en un mes')\n",
    "\n"
   ]
  },
  {
   "cell_type": "markdown",
   "metadata": {},
   "source": [
    "-> Cada semana, durante un mes - Utilizamos la misma función para calcular y representar gráficamente los datos.EL valor del tiempo `W` y la información del gráfico para representar el cambio de `semana en un mes`."
   ]
  },
  {
   "cell_type": "code",
   "execution_count": null,
   "metadata": {},
   "outputs": [],
   "source": [
    "# primero calcular las velocidades y intensidades medias a cada 15 min\n",
    "sensor_sem_mes=timeframe(mes,'vmed','intensidad','W')\n",
    "#utilizando la funcion hago el plot de los datos\n",
    "plotting(sensor_sem_mes, 'semana en un mes')\n",
    "\n"
   ]
  },
  {
   "cell_type": "markdown",
   "metadata": {},
   "source": [
    "4. Dado un sensor de tráico, mostrar el número de vehículos registrados y la\n",
    "velocidad media en periodos de 15 minutos, de una hora y de un día durante\n",
    "todo el mes, con gráficas:"
   ]
  },
  {
   "cell_type": "markdown",
   "metadata": {},
   "source": [
    "\n",
    "Para realizar este análisis, opté por generar un nuevo DataFrame `datos_mes` que contuviera exclusivamente los datos del mes en cuestión. Se creó este DataFrame a partir del sensor único previamente seleccionado. Luego, se definió el rango de fechas que sería objeto de estudio, filtrando entonces los datos en consecuencia. Para mejorar la manipulación de la información temporal, transformé la columna de fechas al formato datetime.\n",
    "\n",
    "Posteriormente, enriquecí el DataFrame con la incorporación de cuatro nuevas columnas de tipo datetime. Estas columnas fueron diseñadas para proporcionar información específica sobre cada registro, incluyendo el día de la semana, el día del mes, la semana del año y la semana del mes. Cabe destacar que estos cálculos se realizaron utilizando funciones de fecha, permitiendo así obtener los datos necesarios para llevar a cabo el siguiente análisis de manera más eficiente. Este enfoque estructurado y detallado establece una base sólida para el análisis subsiguiente, facilitando la interpretación y extracción de información relevante."
   ]
  },
  {
   "cell_type": "code",
   "execution_count": 128,
   "metadata": {},
   "outputs": [],
   "source": [
    "datos_mes= pd.DataFrame(sensor_unico)\n",
    "\n",
    "semana_inicio = '2023-10-01'\n",
    "semana_fin = '2023-10-31'\n",
    "\n",
    "datos_mes= sensor_unico[sensor_unico['fecha'].between(pd.to_datetime(semana_inicio), pd.to_datetime(semana_fin))].copy()\n",
    "datos_mes['fecha'] = pd.to_datetime(datos_mes['fecha'])\n",
    "\n",
    "datos_mes['dia_semana'] = datos_mes['fecha'].dt.day_name()\n",
    "datos_mes['dia_mes'] = datos_mes['fecha'].dt.day\n",
    "datos_mes['semana_ano'] = datos_mes['fecha'].dt.strftime('%U').astype(int) + 1  # Adding 1 to make it 1-based\n",
    "datos_mes['semana_mes'] = (datos_mes['fecha'].dt.day - 1) // 7 + 1\n"
   ]
  },
  {
   "cell_type": "code",
   "execution_count": 129,
   "metadata": {},
   "outputs": [
    {
     "data": {
      "text/html": [
       "<div>\n",
       "<style scoped>\n",
       "    .dataframe tbody tr th:only-of-type {\n",
       "        vertical-align: middle;\n",
       "    }\n",
       "\n",
       "    .dataframe tbody tr th {\n",
       "        vertical-align: top;\n",
       "    }\n",
       "\n",
       "    .dataframe thead th {\n",
       "        text-align: right;\n",
       "    }\n",
       "</style>\n",
       "<table border=\"1\" class=\"dataframe\">\n",
       "  <thead>\n",
       "    <tr style=\"text-align: right;\">\n",
       "      <th></th>\n",
       "      <th>id</th>\n",
       "      <th>fecha</th>\n",
       "      <th>tipo_elem</th>\n",
       "      <th>intensidad</th>\n",
       "      <th>ocupacion</th>\n",
       "      <th>carga</th>\n",
       "      <th>vmed</th>\n",
       "      <th>error</th>\n",
       "      <th>periodo_integracion</th>\n",
       "      <th>dia_semana</th>\n",
       "      <th>dia_mes</th>\n",
       "      <th>semana_ano</th>\n",
       "      <th>semana_mes</th>\n",
       "    </tr>\n",
       "  </thead>\n",
       "  <tbody>\n",
       "    <tr>\n",
       "      <th>377879</th>\n",
       "      <td>3488</td>\n",
       "      <td>2023-10-01 00:00:00</td>\n",
       "      <td>M30</td>\n",
       "      <td>2016</td>\n",
       "      <td>4.0</td>\n",
       "      <td>47</td>\n",
       "      <td>85.0</td>\n",
       "      <td>N</td>\n",
       "      <td>15</td>\n",
       "      <td>Sunday</td>\n",
       "      <td>1</td>\n",
       "      <td>41</td>\n",
       "      <td>1</td>\n",
       "    </tr>\n",
       "    <tr>\n",
       "      <th>377880</th>\n",
       "      <td>3488</td>\n",
       "      <td>2023-10-01 00:15:00</td>\n",
       "      <td>M30</td>\n",
       "      <td>1881</td>\n",
       "      <td>4.0</td>\n",
       "      <td>46</td>\n",
       "      <td>83.0</td>\n",
       "      <td>N</td>\n",
       "      <td>15</td>\n",
       "      <td>Sunday</td>\n",
       "      <td>1</td>\n",
       "      <td>41</td>\n",
       "      <td>1</td>\n",
       "    </tr>\n",
       "    <tr>\n",
       "      <th>377881</th>\n",
       "      <td>3488</td>\n",
       "      <td>2023-10-01 00:30:00</td>\n",
       "      <td>M30</td>\n",
       "      <td>1912</td>\n",
       "      <td>5.0</td>\n",
       "      <td>43</td>\n",
       "      <td>82.0</td>\n",
       "      <td>N</td>\n",
       "      <td>15</td>\n",
       "      <td>Sunday</td>\n",
       "      <td>1</td>\n",
       "      <td>41</td>\n",
       "      <td>1</td>\n",
       "    </tr>\n",
       "    <tr>\n",
       "      <th>377882</th>\n",
       "      <td>3488</td>\n",
       "      <td>2023-10-01 00:45:00</td>\n",
       "      <td>M30</td>\n",
       "      <td>1692</td>\n",
       "      <td>5.0</td>\n",
       "      <td>42</td>\n",
       "      <td>84.0</td>\n",
       "      <td>N</td>\n",
       "      <td>15</td>\n",
       "      <td>Sunday</td>\n",
       "      <td>1</td>\n",
       "      <td>41</td>\n",
       "      <td>1</td>\n",
       "    </tr>\n",
       "    <tr>\n",
       "      <th>377883</th>\n",
       "      <td>3488</td>\n",
       "      <td>2023-10-01 01:00:00</td>\n",
       "      <td>M30</td>\n",
       "      <td>1532</td>\n",
       "      <td>4.0</td>\n",
       "      <td>38</td>\n",
       "      <td>84.0</td>\n",
       "      <td>N</td>\n",
       "      <td>15</td>\n",
       "      <td>Sunday</td>\n",
       "      <td>1</td>\n",
       "      <td>41</td>\n",
       "      <td>1</td>\n",
       "    </tr>\n",
       "  </tbody>\n",
       "</table>\n",
       "</div>"
      ],
      "text/plain": [
       "          id               fecha tipo_elem  intensidad  ocupacion  carga  \\\n",
       "377879  3488 2023-10-01 00:00:00       M30        2016        4.0     47   \n",
       "377880  3488 2023-10-01 00:15:00       M30        1881        4.0     46   \n",
       "377881  3488 2023-10-01 00:30:00       M30        1912        5.0     43   \n",
       "377882  3488 2023-10-01 00:45:00       M30        1692        5.0     42   \n",
       "377883  3488 2023-10-01 01:00:00       M30        1532        4.0     38   \n",
       "\n",
       "        vmed error  periodo_integracion dia_semana  dia_mes  semana_ano  \\\n",
       "377879  85.0     N                   15     Sunday        1          41   \n",
       "377880  83.0     N                   15     Sunday        1          41   \n",
       "377881  82.0     N                   15     Sunday        1          41   \n",
       "377882  84.0     N                   15     Sunday        1          41   \n",
       "377883  84.0     N                   15     Sunday        1          41   \n",
       "\n",
       "        semana_mes  \n",
       "377879           1  \n",
       "377880           1  \n",
       "377881           1  \n",
       "377882           1  \n",
       "377883           1  "
      ]
     },
     "execution_count": 129,
     "metadata": {},
     "output_type": "execute_result"
    }
   ],
   "source": [
    "#Analisando los datos\n",
    "datos_mes.head()"
   ]
  },
  {
   "cell_type": "markdown",
   "metadata": {},
   "source": [
    "Para pode agrupar las informacion por cada fecha que cree creo un diccionario llamado agg_functions que se utilizará posteriormente en una operación de agregación (como en el método groupby de Pandas) para calcular la media de diferentes columnas del dataframe de los datos del mes."
   ]
  },
  {
   "cell_type": "code",
   "execution_count": 130,
   "metadata": {},
   "outputs": [],
   "source": [
    "agg_functions = {\n",
    "    'intensidad': 'mean',\n",
    "    'ocupacion': 'mean',\n",
    "    'carga': 'mean',\n",
    "    'vmed': 'mean'\n",
    "}"
   ]
  },
  {
   "cell_type": "markdown",
   "metadata": {},
   "source": [
    "Agrupo los datos según las necesidades del análisis: por el día de la semana, por el día del mes, por semana del año y por semana del mes, utilizando la función `groupby` y definiendo el campo por el cual quiero que se realice el agrupamiento. A continuación, añado la biblioteca que quiero utilizar para la agregación de los datos, la cual tiene especificado el cálculo que se debe realizar para cada columna. Finalmente, creo un nuevo dataset para cada análisis."
   ]
  },
  {
   "cell_type": "code",
   "execution_count": 131,
   "metadata": {},
   "outputs": [],
   "source": [
    "# por dia de la semana\n",
    "dia_semana = datos_mes.groupby('dia_semana').agg(agg_functions).reset_index()\n",
    "# por dial del mes\n",
    "dia_mes = datos_mes.groupby('dia_mes').agg(agg_functions).reset_index()\n",
    "# por semana del año\n",
    "por_semana_ano = datos_mes.groupby('semana_ano').agg(agg_functions).reset_index()\n",
    "# por semana del mes\n",
    "por_semana_mes = datos_mes.groupby(['semana_mes']).agg(agg_functions).reset_index()\n"
   ]
  },
  {
   "cell_type": "markdown",
   "metadata": {},
   "source": [
    "Entonces, desarrollo un código que genere gráficos de intensidades en subplots, asignando uno para cada conjunto de información."
   ]
  },
  {
   "cell_type": "code",
   "execution_count": 132,
   "metadata": {},
   "outputs": [
    {
     "data": {
      "image/png": "[encoded data removed]",
      "text/plain": [
       "<Figure size 1500x1200 with 4 Axes>"
      ]
     },
     "metadata": {},
     "output_type": "display_data"
    }
   ],
   "source": [
    "# Definiendo el tamaño de la figura\n",
    "plt.figure(figsize=(15, 12))\n",
    "\n",
    "# Intensidad Por dia de la semana\n",
    "plt.subplot(2, 2, 1)\n",
    "dia_semana.plot(x='dia_semana', y='intensidad', kind='bar', color='blue', ax=plt.gca())\n",
    "plt.title('Media de intensidad por dia de la semana')\n",
    "plt.xlabel('Dia de la Semana')\n",
    "plt.ylabel('Media de Intensidad')\n",
    "\n",
    "# Por dia del mes\n",
    "plt.subplot(2, 2, 2)\n",
    "dia_mes.plot(x='dia_mes', y='intensidad', kind='bar', color='green', ax=plt.gca())\n",
    "plt.title('Media de intensidad por dia del mes')\n",
    "plt.xlabel('Dia del Mes')\n",
    "plt.ylabel('Media de intensidad')\n",
    "\n",
    "# Por semana del año\n",
    "plt.subplot(2, 2, 3)\n",
    "por_semana_ano.plot(x='semana_ano', y='intensidad', kind='bar', color='orange', ax=plt.gca())\n",
    "plt.title('Media de intensidad por semana del año')\n",
    "plt.xlabel('Semana del Año')\n",
    "plt.ylabel('Media de intensidad')\n",
    "\n",
    "# Por semana del mes\n",
    "plt.subplot(2, 2, 4)\n",
    "por_semana_mes.plot(x='semana_mes', y='intensidad', kind='bar', color='red', ax=plt.gca())\n",
    "plt.title('Media de intensidad por semana del mes')\n",
    "plt.xlabel('Semana del mes')\n",
    "plt.ylabel('Media de intensidad')\n",
    "\n",
    "plt.tight_layout()\n",
    "plt.show()"
   ]
  },
  {
   "cell_type": "markdown",
   "metadata": {},
   "source": [
    "Hago lo mismo para gráficos de velocidad en subplots, asignando uno para cada conjunto de información."
   ]
  },
  {
   "cell_type": "code",
   "execution_count": null,
   "metadata": {},
   "outputs": [],
   "source": [
    "# Definiendo el tamaño de la figura\n",
    "plt.figure(figsize=(15, 12))\n",
    "\n",
    "# Velocidad Media Por dia de la semana\n",
    "plt.subplot(2, 2, 1)\n",
    "dia_semana.plot(x='dia_semana', y='vmed', kind='bar', color='blue', ax=plt.gca())\n",
    "plt.title('Velocidad Media por dia de la semana')\n",
    "plt.xlabel('Dia de la Semana')\n",
    "plt.ylabel('Velocidad Media')\n",
    "\n",
    "# Por dia del mes\n",
    "plt.subplot(2, 2, 2)\n",
    "dia_mes.plot(x='dia_mes', y='vmed', kind='bar', color='green', ax=plt.gca())\n",
    "plt.title('Velocidad Media por dia del mes')\n",
    "plt.xlabel('Dia del Mes')\n",
    "plt.ylabel('Velocidad Media')\n",
    "\n",
    "# Por semana del año\n",
    "plt.subplot(2, 2, 3)\n",
    "por_semana_ano.plot(x='semana_ano', y='vmed', kind='bar', color='orange', ax=plt.gca())\n",
    "plt.title('Velocidad Media por semana del año')\n",
    "plt.xlabel('Semana del Año')\n",
    "plt.ylabel('Velocidad Media')\n",
    "\n",
    "# Por semana del mes\n",
    "plt.subplot(2, 2, 4)\n",
    "por_semana_mes.plot(x='semana_mes', y='vmed', kind='bar', color='red', ax=plt.gca())\n",
    "plt.title('Velocidad Media por emana del mes')\n",
    "plt.xlabel('Semana del mes')\n",
    "plt.ylabel('Velocidad Media')\n",
    "\n",
    "plt.tight_layout()\n",
    "plt.show()"
   ]
  },
  {
   "cell_type": "markdown",
   "metadata": {},
   "source": [
    "5. Para los sensores identificados como más relevantes, realizar gráficas comparativas que permitan visualizar las diferencias de tráfco medidas por cada uno de ellos, bien dentro de una misma gráfica o como subplots."
   ]
  },
  {
   "cell_type": "markdown",
   "metadata": {},
   "source": [
    "Creé un código que permite al usuario insertar oligatoriamente 4 sensores para su comparación. Este código incluye un bucle de repetición while que solo se cierra cuando se han ingresado 4 sensores válidos. Se realiza una validación en contra de una lista de sensores creada a partir de la búsqueda de todos los ID presentes en el dataset principal, y solo se añaden a la lista de selecionados aquellos sensores que existen en la lista principal. Además, hay una validación para asegurar que si el usuario inserta algo que no sea un número entero, el código no lo registra y le informa el error. Dado que esta validación también se encuentra dentro del bucle while, el código solicitará al usuario que ingrese otro sensor válido. Este conjunto de validaciones garantiza que se utilicen datos correctos y evita la inserción de información incorrecta."
   ]
  },
  {
   "cell_type": "code",
   "execution_count": 133,
   "metadata": {},
   "outputs": [
    {
     "name": "stdout",
     "output_type": "stream",
     "text": [
      "Sensor 3488 agregado al análisis.\n",
      "Sensor 6666 agregado al análisis.\n",
      "Sensor 9999 agregado al análisis.\n",
      "Entrada no válida. El sensor no existe. Por favor, elija un sensor válido.\n",
      "Sensor 4444 agregado al análisis.\n"
     ]
    }
   ],
   "source": [
    "sensores_relevantes = []  # Lista para almacenar los sensores seleccionados\n",
    "all_sensors = datos_madrid_trafico['id'].unique().tolist()\n",
    "sensores_necesarios = 4\n",
    "sensores_ingresados = 0\n",
    "\n",
    "while sensores_ingresados < sensores_necesarios:\n",
    "    try:\n",
    "        sensor_id = int(input(\"Ingrese el número del sensor que desea agregar al análisis: \"))\n",
    "        \n",
    "        # Validar si el sensor existe\n",
    "        if sensor_id in all_sensors:\n",
    "            sensores_sel = datos_madrid_trafico[datos_madrid_trafico['id'] == sensor_id]\n",
    "            sensores_relevantes.append(sensores_sel)\n",
    "            sensores_ingresados += 1\n",
    "            print(f\"Sensor {sensor_id} agregado al análisis.\")\n",
    "        else:\n",
    "            print(\"Entrada no válida. El sensor no existe. Por favor, elija un sensor válido.\")\n",
    "    except ValueError:\n",
    "        print(\"Entrada no válida. Por favor, ingrese un número válido.\")\n",
    "\n",
    "\n",
    "# Concatenar la lista de DataFrames en un único DataFrame\n",
    "sensores_relevantes = pd.concat(sensores_relevantes, ignore_index=True)"
   ]
  },
  {
   "cell_type": "markdown",
   "metadata": {},
   "source": [
    "Me basé en el ejercicio anterior para realizar los análisis. Es decir, creé campos nuevos en el dataset de los sensores relevantes con el fin de agrupar los datos y obtener una comprensión de su temporalidad."
   ]
  },
  {
   "cell_type": "code",
   "execution_count": 134,
   "metadata": {},
   "outputs": [],
   "source": [
    "sensores_relevantes['fecha'] = pd.to_datetime(sensores_relevantes['fecha'])\n",
    "sensores_relevantes['dia_semana'] = sensores_relevantes['fecha'].dt.day_name()\n",
    "sensores_relevantes['dia_mes'] = sensores_relevantes['fecha'].dt.day\n",
    "sensores_relevantes['semana_ano'] = sensores_relevantes['fecha'].dt.strftime('%U').astype(int) + 1  # Adding 1 to make it 1-based\n",
    "sensores_relevantes['semana_mes'] = (sensores_relevantes['fecha'].dt.day - 1) // 7 + 1"
   ]
  },
  {
   "cell_type": "code",
   "execution_count": 135,
   "metadata": {},
   "outputs": [
    {
     "data": {
      "text/html": [
       "<div>\n",
       "<style scoped>\n",
       "    .dataframe tbody tr th:only-of-type {\n",
       "        vertical-align: middle;\n",
       "    }\n",
       "\n",
       "    .dataframe tbody tr th {\n",
       "        vertical-align: top;\n",
       "    }\n",
       "\n",
       "    .dataframe thead th {\n",
       "        text-align: right;\n",
       "    }\n",
       "</style>\n",
       "<table border=\"1\" class=\"dataframe\">\n",
       "  <thead>\n",
       "    <tr style=\"text-align: right;\">\n",
       "      <th></th>\n",
       "      <th>id</th>\n",
       "      <th>fecha</th>\n",
       "      <th>tipo_elem</th>\n",
       "      <th>intensidad</th>\n",
       "      <th>ocupacion</th>\n",
       "      <th>carga</th>\n",
       "      <th>vmed</th>\n",
       "      <th>error</th>\n",
       "      <th>periodo_integracion</th>\n",
       "      <th>dia_semana</th>\n",
       "      <th>dia_mes</th>\n",
       "      <th>semana_ano</th>\n",
       "      <th>semana_mes</th>\n",
       "    </tr>\n",
       "  </thead>\n",
       "  <tbody>\n",
       "    <tr>\n",
       "      <th>0</th>\n",
       "      <td>3488</td>\n",
       "      <td>2023-10-01 00:00:00</td>\n",
       "      <td>M30</td>\n",
       "      <td>2016</td>\n",
       "      <td>4.0</td>\n",
       "      <td>47</td>\n",
       "      <td>85.0</td>\n",
       "      <td>N</td>\n",
       "      <td>15</td>\n",
       "      <td>Sunday</td>\n",
       "      <td>1</td>\n",
       "      <td>41</td>\n",
       "      <td>1</td>\n",
       "    </tr>\n",
       "    <tr>\n",
       "      <th>1</th>\n",
       "      <td>3488</td>\n",
       "      <td>2023-10-01 00:15:00</td>\n",
       "      <td>M30</td>\n",
       "      <td>1881</td>\n",
       "      <td>4.0</td>\n",
       "      <td>46</td>\n",
       "      <td>83.0</td>\n",
       "      <td>N</td>\n",
       "      <td>15</td>\n",
       "      <td>Sunday</td>\n",
       "      <td>1</td>\n",
       "      <td>41</td>\n",
       "      <td>1</td>\n",
       "    </tr>\n",
       "    <tr>\n",
       "      <th>2</th>\n",
       "      <td>3488</td>\n",
       "      <td>2023-10-01 00:30:00</td>\n",
       "      <td>M30</td>\n",
       "      <td>1912</td>\n",
       "      <td>5.0</td>\n",
       "      <td>43</td>\n",
       "      <td>82.0</td>\n",
       "      <td>N</td>\n",
       "      <td>15</td>\n",
       "      <td>Sunday</td>\n",
       "      <td>1</td>\n",
       "      <td>41</td>\n",
       "      <td>1</td>\n",
       "    </tr>\n",
       "    <tr>\n",
       "      <th>3</th>\n",
       "      <td>3488</td>\n",
       "      <td>2023-10-01 00:45:00</td>\n",
       "      <td>M30</td>\n",
       "      <td>1692</td>\n",
       "      <td>5.0</td>\n",
       "      <td>42</td>\n",
       "      <td>84.0</td>\n",
       "      <td>N</td>\n",
       "      <td>15</td>\n",
       "      <td>Sunday</td>\n",
       "      <td>1</td>\n",
       "      <td>41</td>\n",
       "      <td>1</td>\n",
       "    </tr>\n",
       "    <tr>\n",
       "      <th>4</th>\n",
       "      <td>3488</td>\n",
       "      <td>2023-10-01 01:00:00</td>\n",
       "      <td>M30</td>\n",
       "      <td>1532</td>\n",
       "      <td>4.0</td>\n",
       "      <td>38</td>\n",
       "      <td>84.0</td>\n",
       "      <td>N</td>\n",
       "      <td>15</td>\n",
       "      <td>Sunday</td>\n",
       "      <td>1</td>\n",
       "      <td>41</td>\n",
       "      <td>1</td>\n",
       "    </tr>\n",
       "    <tr>\n",
       "      <th>...</th>\n",
       "      <td>...</td>\n",
       "      <td>...</td>\n",
       "      <td>...</td>\n",
       "      <td>...</td>\n",
       "      <td>...</td>\n",
       "      <td>...</td>\n",
       "      <td>...</td>\n",
       "      <td>...</td>\n",
       "      <td>...</td>\n",
       "      <td>...</td>\n",
       "      <td>...</td>\n",
       "      <td>...</td>\n",
       "      <td>...</td>\n",
       "    </tr>\n",
       "    <tr>\n",
       "      <th>95</th>\n",
       "      <td>3488</td>\n",
       "      <td>2023-10-01 23:45:00</td>\n",
       "      <td>M30</td>\n",
       "      <td>1560</td>\n",
       "      <td>4.0</td>\n",
       "      <td>36</td>\n",
       "      <td>87.0</td>\n",
       "      <td>N</td>\n",
       "      <td>15</td>\n",
       "      <td>Sunday</td>\n",
       "      <td>1</td>\n",
       "      <td>41</td>\n",
       "      <td>1</td>\n",
       "    </tr>\n",
       "    <tr>\n",
       "      <th>96</th>\n",
       "      <td>3488</td>\n",
       "      <td>2023-10-02 00:00:00</td>\n",
       "      <td>M30</td>\n",
       "      <td>1572</td>\n",
       "      <td>4.0</td>\n",
       "      <td>37</td>\n",
       "      <td>87.0</td>\n",
       "      <td>N</td>\n",
       "      <td>15</td>\n",
       "      <td>Monday</td>\n",
       "      <td>2</td>\n",
       "      <td>41</td>\n",
       "      <td>1</td>\n",
       "    </tr>\n",
       "    <tr>\n",
       "      <th>97</th>\n",
       "      <td>3488</td>\n",
       "      <td>2023-10-02 00:15:00</td>\n",
       "      <td>M30</td>\n",
       "      <td>1313</td>\n",
       "      <td>2.0</td>\n",
       "      <td>33</td>\n",
       "      <td>88.0</td>\n",
       "      <td>N</td>\n",
       "      <td>15</td>\n",
       "      <td>Monday</td>\n",
       "      <td>2</td>\n",
       "      <td>41</td>\n",
       "      <td>1</td>\n",
       "    </tr>\n",
       "    <tr>\n",
       "      <th>98</th>\n",
       "      <td>3488</td>\n",
       "      <td>2023-10-02 00:30:00</td>\n",
       "      <td>M30</td>\n",
       "      <td>984</td>\n",
       "      <td>2.0</td>\n",
       "      <td>23</td>\n",
       "      <td>88.0</td>\n",
       "      <td>N</td>\n",
       "      <td>15</td>\n",
       "      <td>Monday</td>\n",
       "      <td>2</td>\n",
       "      <td>41</td>\n",
       "      <td>1</td>\n",
       "    </tr>\n",
       "    <tr>\n",
       "      <th>99</th>\n",
       "      <td>3488</td>\n",
       "      <td>2023-10-02 00:45:00</td>\n",
       "      <td>M30</td>\n",
       "      <td>896</td>\n",
       "      <td>1.0</td>\n",
       "      <td>21</td>\n",
       "      <td>89.0</td>\n",
       "      <td>N</td>\n",
       "      <td>15</td>\n",
       "      <td>Monday</td>\n",
       "      <td>2</td>\n",
       "      <td>41</td>\n",
       "      <td>1</td>\n",
       "    </tr>\n",
       "  </tbody>\n",
       "</table>\n",
       "<p>100 rows × 13 columns</p>\n",
       "</div>"
      ],
      "text/plain": [
       "      id               fecha tipo_elem  intensidad  ocupacion  carga  vmed  \\\n",
       "0   3488 2023-10-01 00:00:00       M30        2016        4.0     47  85.0   \n",
       "1   3488 2023-10-01 00:15:00       M30        1881        4.0     46  83.0   \n",
       "2   3488 2023-10-01 00:30:00       M30        1912        5.0     43  82.0   \n",
       "3   3488 2023-10-01 00:45:00       M30        1692        5.0     42  84.0   \n",
       "4   3488 2023-10-01 01:00:00       M30        1532        4.0     38  84.0   \n",
       "..   ...                 ...       ...         ...        ...    ...   ...   \n",
       "95  3488 2023-10-01 23:45:00       M30        1560        4.0     36  87.0   \n",
       "96  3488 2023-10-02 00:00:00       M30        1572        4.0     37  87.0   \n",
       "97  3488 2023-10-02 00:15:00       M30        1313        2.0     33  88.0   \n",
       "98  3488 2023-10-02 00:30:00       M30         984        2.0     23  88.0   \n",
       "99  3488 2023-10-02 00:45:00       M30         896        1.0     21  89.0   \n",
       "\n",
       "   error  periodo_integracion dia_semana  dia_mes  semana_ano  semana_mes  \n",
       "0      N                   15     Sunday        1          41           1  \n",
       "1      N                   15     Sunday        1          41           1  \n",
       "2      N                   15     Sunday        1          41           1  \n",
       "3      N                   15     Sunday        1          41           1  \n",
       "4      N                   15     Sunday        1          41           1  \n",
       "..   ...                  ...        ...      ...         ...         ...  \n",
       "95     N                   15     Sunday        1          41           1  \n",
       "96     N                   15     Monday        2          41           1  \n",
       "97     N                   15     Monday        2          41           1  \n",
       "98     N                   15     Monday        2          41           1  \n",
       "99     N                   15     Monday        2          41           1  \n",
       "\n",
       "[100 rows x 13 columns]"
      ]
     },
     "execution_count": 135,
     "metadata": {},
     "output_type": "execute_result"
    }
   ],
   "source": [
    "sensores_relevantes.head(100)"
   ]
  },
  {
   "cell_type": "markdown",
   "metadata": {},
   "source": [
    "Cree una función para evitar repetir el proceso al crear gráficas. La función plot_sensor_data recibe 3 variables: el dataframe que se utilizará, la variable temporal (ya sea dia_semana, dia_mes, semana_ano o semana_mes) y la última que es el dato a calcular (intensidad o velocidad).\n",
    "\n",
    "Dentro de la función, se siguen los siguientes pasos:\n",
    "\n",
    "1. Se extraen los identificadores únicos de los sensores presentes en el DataFrame proporcionado (dataframe).\n",
    "2. Se determina el número de filas y columnas necesarias para organizar los subgráficos en función del número de sensores utilizando la función len, y se establece un límite de 2 columnas para mantener una visualización clara.\n",
    "3. Se crea una figura que contiene subgráficos para cada sensor utilizando el número de líneas y columnas pre determinados.\n",
    "4. Se itera sobre los identificadores de sensores únicos, donde se filtran los datos relevantes del DataFrame original.\n",
    "5. Se agrupan los datos en función de la variable temporal especificada (temporal_variable). Se utiliza un condicional para interactuar con la información pasada y definir qué fórmula se tiene que utilizar, calculando la media de la variable de interés (variable) para cada categoría temporal.\n",
    "6. Se utiliza Seaborn para generar gráficos de líneas para cada sensor, mostrando la variación de la variable a lo largo del tiempo y personalizando cada subgráfico con el nombre del sensor, etiquetas de ejes y leyendas."
   ]
  },
  {
   "cell_type": "code",
   "execution_count": 139,
   "metadata": {},
   "outputs": [],
   "source": [
    "def plot_sensor_data(dataframe, temporal_variable, variable):\n",
    "    #Parte 1\n",
    "    sensor_ids = dataframe['id'].unique()\n",
    "    \n",
    "    #Parte 2\n",
    "    num_sensors = len(sensor_ids)\n",
    "    num_cols = min(num_sensors, 2)\n",
    "    num_rows = (num_sensors + num_cols - 1) // num_cols\n",
    "    \n",
    "    #Parte 3\n",
    "    fig, axes = plt.subplots(num_rows, num_cols, figsize=(12, 4 * num_rows))\n",
    "    axes = axes.flatten()\n",
    "\n",
    "    #Parte 4\n",
    "\n",
    "    for i, sensor_id in enumerate(sensor_ids):\n",
    "        sensor_data = dataframe[dataframe['id'] == sensor_id]\n",
    "\n",
    "        #Parte 5    \n",
    "\n",
    "        if temporal_variable == 'dia_semana':\n",
    "            sensor_data = sensor_data.groupby('dia_semana').agg({variable: 'mean'}).reset_index()\n",
    "        elif temporal_variable == 'dia_mes':\n",
    "            sensor_data = sensor_data.groupby('dia_mes').agg({variable: 'mean'}).reset_index()\n",
    "        elif temporal_variable == 'semana_ano':\n",
    "            sensor_data = sensor_data.groupby('semana_ano').agg({variable: 'mean'}).reset_index()\n",
    "        elif temporal_variable == 'semana_mes':\n",
    "            sensor_data = sensor_data.groupby('semana_mes').agg({variable: 'mean'}).reset_index()\n",
    "\n",
    "        #Parte 6\n",
    "        sns.lineplot(x=temporal_variable, y=variable, data=sensor_data, ax=axes[i], label=variable.capitalize())\n",
    "        axes[i].set_title(f'Sensor {sensor_id}')\n",
    "        axes[i].set_xlabel(temporal_variable.capitalize())\n",
    "        axes[i].set_ylabel(variable.capitalize())\n",
    "        axes[i].legend()\n",
    "\n",
    "    plt.tight_layout()\n",
    "    plt.show()\n"
   ]
  },
  {
   "cell_type": "markdown",
   "metadata": {},
   "source": [
    " Comparaciones de intensidad por día de la semana de los sensores seleccionados. En la función, indicamos el dataframe `sensores_relevantes`, la variable temporal `dia_semana`, y el campo que queremos calcular, que en este caso es `intensidad`."
   ]
  },
  {
   "cell_type": "code",
   "execution_count": 138,
   "metadata": {},
   "outputs": [
    {
     "data": {
      "image/png": "[encoded data removed]",
      "text/plain": [
       "<Figure size 1200x800 with 4 Axes>"
      ]
     },
     "metadata": {},
     "output_type": "display_data"
    }
   ],
   "source": [
    "plot_sensor_data(sensores_relevantes, 'dia_semana', 'intensidad')"
   ]
  },
  {
   "cell_type": "markdown",
   "metadata": {},
   "source": [
    " Comparaciones de intensidad por día del mes  de los sensores seleccionados. En la función, indicamos el dataframe `sensores_relevantes`, la variable temporal `dia_mes`, y el campo que queremos calcular, que en este caso es `intensidad`."
   ]
  },
  {
   "cell_type": "code",
   "execution_count": null,
   "metadata": {},
   "outputs": [],
   "source": [
    "plot_sensor_data(sensores_relevantes, 'dia_mes', 'intensidad')"
   ]
  },
  {
   "cell_type": "markdown",
   "metadata": {},
   "source": [
    " Comparaciones de intensidad por semana del año de los sensores seleccionados. En la función, indicamos el dataframe `sensores_relevantes`, la variable temporal `semana_ano`, y el campo que queremos calcular, que en este caso es `intensidad`."
   ]
  },
  {
   "cell_type": "code",
   "execution_count": null,
   "metadata": {},
   "outputs": [],
   "source": [
    "plot_sensor_data(sensores_relevantes, 'semana_ano', 'intensidad')"
   ]
  },
  {
   "cell_type": "markdown",
   "metadata": {},
   "source": [
    " Comparaciones de intensidad por semana del mes de los sensores seleccionados. En la función, indicamos el dataframe `sensores_relevantes`, la variable temporal `semana_mes`, y el campo que queremos calcular, que en este caso es `intensidad`."
   ]
  },
  {
   "cell_type": "code",
   "execution_count": null,
   "metadata": {},
   "outputs": [],
   "source": [
    "plot_sensor_data(sensores_relevantes, 'semana_mes', 'intensidad')"
   ]
  },
  {
   "cell_type": "markdown",
   "metadata": {},
   "source": [
    "Comparciones de las velocidades de los sensore relevantes selecionados"
   ]
  },
  {
   "cell_type": "markdown",
   "metadata": {},
   "source": [
    " Comparaciones de intensidad por semana del mes de los sensores seleccionados. En la función, indicamos el dataframe `sensores_relevantes`, la variable temporal `dia_semana`, y el campo que queremos calcular, que en este caso es `vmed`."
   ]
  },
  {
   "cell_type": "code",
   "execution_count": null,
   "metadata": {},
   "outputs": [],
   "source": [
    "plot_sensor_data(sensores_relevantes, 'dia_semana', 'vmed')"
   ]
  },
  {
   "cell_type": "markdown",
   "metadata": {},
   "source": [
    " Comparaciones de intensidad por semana del mes de los sensores seleccionados. En la función, indicamos el dataframe `sensores_relevantes`, la variable temporal `dia_mes`, y el campo que queremos calcular, que en este caso es `vmed`."
   ]
  },
  {
   "cell_type": "code",
   "execution_count": null,
   "metadata": {},
   "outputs": [],
   "source": [
    "plot_sensor_data(sensores_relevantes, 'dia_mes', 'vmed')"
   ]
  },
  {
   "cell_type": "markdown",
   "metadata": {},
   "source": [
    " Comparaciones de intensidad por semana del mes de los sensores seleccionados. En la función, indicamos el dataframe `sensores_relevantes`, la variable temporal `semana_ano`, y el campo que queremos calcular, que en este caso es `vmed`."
   ]
  },
  {
   "cell_type": "code",
   "execution_count": null,
   "metadata": {},
   "outputs": [],
   "source": [
    "plot_sensor_data(sensores_relevantes, 'semana_ano', 'vmed')"
   ]
  },
  {
   "cell_type": "markdown",
   "metadata": {},
   "source": [
    " Comparaciones de intensidad por semana del mes de los sensores seleccionados. En la función, indicamos el dataframe `sensores_relevantes`, la variable temporal `semana_mes`, y el campo que queremos calcular, que en este caso es `vmed`."
   ]
  },
  {
   "cell_type": "code",
   "execution_count": null,
   "metadata": {},
   "outputs": [],
   "source": [
    "plot_sensor_data(sensores_relevantes, 'semana_mes', 'vmed')"
   ]
  }
 ],
 "metadata": {
  "kernelspec": {
   "display_name": "Python 3.11.0 64-bit",
   "language": "python",
   "name": "python3"
  },
  "language_info": {
   "codemirror_mode": {
    "name": "ipython",
    "version": 3
   },
   "file_extension": ".py",
   "mimetype": "text/x-python",
   "name": "python",
   "nbconvert_exporter": "python",
   "pygments_lexer": "ipython3",
   "version": "3.11.0"
  },
  "orig_nbformat": 4,
  "vscode": {
   "interpreter": {
    "hash": "aee8b7b246df8f9039afb4144a1f6fd8d2ca17a180786b69acc140d282b71a49"
   }
  }
 },
 "nbformat": 4,
 "nbformat_minor": 2
}
